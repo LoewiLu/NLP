{
 "cells": [
  {
   "cell_type": "code",
   "execution_count": 2,
   "metadata": {},
   "outputs": [
    {
     "name": "stdout",
     "output_type": "stream",
     "text": [
      "2.84s get data package ：）\n",
      "X & y prepared\n"
     ]
    }
   ],
   "source": [
    "#!/usr/bin/env python3\n",
    "# -*- coding: utf-8 -*-\n",
    "\"\"\"\n",
    "Created on Sun Oct 28 20:19:14 2018\n",
    "\n",
    "@author: loewi\n",
    "\"\"\"\n",
    "import os\n",
    "from time import time\n",
    "from feature_extraction import __get\n",
    "\n",
    "path = r'/Users/loewi/Documents/Pre_Learn/classification/20news-bydate/'\n",
    "os.chdir(path)\n",
    "#print(os.getcwd())\n",
    "\n",
    "t0 = time() \n",
    "\n",
    "newsgroups_train = __get('20news-bydate-train')\n",
    "newsgroups_test = __get('20news-bydate-test')\n",
    "\n",
    "duration = time() - t0\n",
    "print('%0.2fs get data package ：）'%duration)\n",
    "\n",
    "X_train, X_test = newsgroups_train['data'], newsgroups_test['data']\n",
    "y_train, y_test = newsgroups_train['docs'], newsgroups_test['docs']\n",
    "print('X & y prepared')\n",
    "\n"
   ]
  },
  {
   "cell_type": "code",
   "execution_count": 3,
   "metadata": {},
   "outputs": [],
   "source": [
    "\n",
    "\n",
    "from sklearn.feature_extraction.text import CountVectorizer,TfidfTransformer\n",
    "from sklearn.naive_bayes import MultinomialNB\n",
    "from sklearn.pipeline import Pipeline\n",
    "from sklearn.model_selection import cross_val_score,StratifiedKFold,GridSearchCV\n",
    "from pprint import pprint\n",
    "\n"
   ]
  },
  {
   "cell_type": "code",
   "execution_count": 4,
   "metadata": {},
   "outputs": [
    {
     "name": "stdout",
     "output_type": "stream",
     "text": [
      "Performing grid search...\n",
      "pipeline: ['vect', 'tfidf', 'clf']\n",
      "parameters:\n",
      "{'clf__alpha': (0.1, 0.01, 0.001, 0.0001),\n",
      " 'vect__max_df': (0.5, 0.75, 1.0),\n",
      " 'vect__max_features': (None, 5000, 10000, 20000),\n",
      " 'vect__ngram_range': ((1, 1), (1, 2))}\n",
      "Fitting 5 folds for each of 96 candidates, totalling 480 fits\n"
     ]
    },
    {
     "name": "stderr",
     "output_type": "stream",
     "text": [
      "[Parallel(n_jobs=-1)]: Done  34 tasks      | elapsed:   41.3s\n",
      "[Parallel(n_jobs=-1)]: Done 184 tasks      | elapsed:  3.7min\n",
      "[Parallel(n_jobs=-1)]: Done 434 tasks      | elapsed:  8.7min\n",
      "[Parallel(n_jobs=-1)]: Done 480 out of 480 | elapsed:  9.6min finished\n"
     ]
    },
    {
     "name": "stdout",
     "output_type": "stream",
     "text": [
      "done in 583.502s\n",
      "\n",
      "Best score: 0.842\n",
      "Best parameters set:\n",
      "\tclf__alpha: 0.01\n",
      "\tvect__max_df: 0.5\n",
      "\tvect__max_features: None\n",
      "\tvect__ngram_range: (1, 2)\n"
     ]
    }
   ],
   "source": [
    "\n",
    "# 调参\n",
    "nbc = Pipeline([\n",
    "                ('vect', CountVectorizer(\n",
    "                        lowercase = True,\n",
    "                        stop_words= 'english',\n",
    "                        token_pattern= r'(?u)\\b[a-zA-Z_][a-zA-Z_]+\\b'\n",
    "                        )),\n",
    "                ('tfidf', TfidfTransformer()),\n",
    "                ('clf', MultinomialNB()),\n",
    "                ])\n",
    "parameters = {\n",
    "    'vect__max_df': (0.5, 0.75, 1.0),\n",
    "    'vect__max_features': (None, 5000, 10000, 20000),\n",
    "    'vect__ngram_range': ((1, 1), (1, 2)),  # unigrams or bigrams\n",
    "#    'tfidf__use_idf': (True, False),\n",
    "#    'tfidf__norm': ('l1', 'l2'),\n",
    "    'clf__alpha': (0.1, 0.01, 0.001, 0.0001),\n",
    "}    \n",
    "cv = StratifiedKFold(n_splits= 5 ,random_state=0,shuffle=True)\n",
    "clf = GridSearchCV(nbc,parameters,n_jobs=-1, verbose=1, cv = cv)\n",
    "print(\"Performing grid search...\")\n",
    "print(\"pipeline:\", [name for name, _ in nbc.steps])\n",
    "print(\"parameters:\")\n",
    "pprint(parameters)\n",
    "t0 = time()\n",
    "clf.fit(X_train, y_train)\n",
    "print(\"done in %0.3fs\" % (time() - t0))\n",
    "print()\n",
    "\n",
    "print(\"Best score: %0.3f\" % clf.best_score_)\n",
    "print(\"Best parameters set:\")\n",
    "best_parameters = clf.best_estimator_.get_params()\n",
    "for param_name in sorted(parameters.keys()):\n",
    "    print(\"\\t%s: %r\" % (param_name, best_parameters[param_name]))        \n",
    "    \n"
   ]
  },
  {
   "cell_type": "code",
   "execution_count": 5,
   "metadata": {},
   "outputs": [
    {
     "name": "stdout",
     "output_type": "stream",
     "text": [
      "[0.83605112 0.82877317 0.84673145 0.84823009 0.84789357]\n",
      "training accuracy: 0.842 (+/- 0.016)\n",
      "testing accuracy:   0.757\n"
     ]
    }
   ],
   "source": [
    "#%% predict\n",
    "    \n",
    "from sklearn import metrics  \n",
    "clf_validated = Pipeline([\n",
    "                ('vect', CountVectorizer(\n",
    "                        lowercase = True,\n",
    "                        stop_words= 'english',\n",
    "                        token_pattern= r'(?u)\\b[a-zA-Z_][a-zA-Z_]+\\b',\n",
    "                        max_df = 0.5,\n",
    "                        ngram_range = (1, 2),\n",
    "                        )),\n",
    "                ('tfidf', TfidfTransformer()),\n",
    "                ('clf', MultinomialNB(alpha = 0.01)),\n",
    "                ])    \n",
    "                \n",
    "clf_validated.fit(X_train, y_train)  \n",
    "\n",
    "cv = StratifiedKFold(n_splits= 5 ,random_state=0,shuffle=True)\n",
    "scores = cross_val_score(clf_validated, X_train, y_train,  cv = cv, scoring='accuracy')\n",
    "print (scores)\n",
    "score = scores.mean()\n",
    "print(\"training accuracy: %0.3f (+/- %0.3f)\" % (score, scores.std() * 2))\n",
    "              \n",
    "pred = clf_validated.predict(X_test)\n",
    "score = metrics.accuracy_score(y_test, pred)\n",
    "print(\"testing accuracy:   %0.3f\" % score)\n"
   ]
  },
  {
   "cell_type": "code",
   "execution_count": null,
   "metadata": {},
   "outputs": [],
   "source": []
  }
 ],
 "metadata": {
  "kernelspec": {
   "display_name": "Python 3",
   "language": "python",
   "name": "python3"
  },
  "language_info": {
   "codemirror_mode": {
    "name": "ipython",
    "version": 3
   },
   "file_extension": ".py",
   "mimetype": "text/x-python",
   "name": "python",
   "nbconvert_exporter": "python",
   "pygments_lexer": "ipython3",
   "version": "3.6.5"
  }
 },
 "nbformat": 4,
 "nbformat_minor": 2
}
