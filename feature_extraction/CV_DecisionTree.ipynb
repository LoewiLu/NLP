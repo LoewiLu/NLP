{
 "cells": [
  {
   "cell_type": "code",
   "execution_count": 11,
   "metadata": {},
   "outputs": [
    {
     "name": "stdout",
     "output_type": "stream",
     "text": [
      "2.65s get data package ：）\n",
      "X & y prepared\n"
     ]
    }
   ],
   "source": [
    "import os\n",
    "from time import time\n",
    "from feature_extraction import __get\n",
    "\n",
    "path = r'/Users/loewi/Documents/Pre_Learn/classification/20news-bydate/'\n",
    "os.chdir(path)\n",
    "#print(os.getcwd())\n",
    "\n",
    "t0 = time() \n",
    "\n",
    "newsgroups_train = __get('20news-bydate-train')\n",
    "newsgroups_test = __get('20news-bydate-test')\n",
    "\n",
    "duration = time() - t0\n",
    "print('%0.2fs get data package ：）'%duration)\n",
    "\n",
    "X_train, X_test = newsgroups_train['data'], newsgroups_test['data']\n",
    "y_train, y_test = newsgroups_train['docs'], newsgroups_test['docs']\n",
    "print('X & y prepared')"
   ]
  },
  {
   "cell_type": "code",
   "execution_count": 12,
   "metadata": {},
   "outputs": [],
   "source": [
    "from sklearn.feature_extraction.text import CountVectorizer,TfidfVectorizer,HashingVectorizer,TfidfTransformer\n",
    "from sklearn.pipeline import Pipeline\n",
    "from sklearn.model_selection import cross_val_score,StratifiedKFold,GridSearchCV,RandomizedSearchCV\n",
    "from pprint import pprint\n",
    "from sklearn.tree import DecisionTreeClassifier"
   ]
  },
  {
   "cell_type": "code",
   "execution_count": 39,
   "metadata": {},
   "outputs": [
    {
     "name": "stdout",
     "output_type": "stream",
     "text": [
      "Performing grid search...\n",
      "pipeline: ['vect', 'tfidf', 'clf']\n",
      "parameters:\n",
      "{'clf__max_depth': (10, 100, 500),\n",
      " 'clf__max_features': ('auto', 'log2'),\n",
      " 'clf__max_leaf_nodes': (5, 10, 100),\n",
      " 'clf__min_samples_leaf': (0.1, 0.5, 1),\n",
      " 'clf__min_samples_split': (0.1, 0.5, 1.0)}\n",
      "Fitting 5 folds for each of 162 candidates, totalling 810 fits\n"
     ]
    },
    {
     "name": "stderr",
     "output_type": "stream",
     "text": [
      "[Parallel(n_jobs=-1)]: Done  34 tasks      | elapsed:   28.8s\n",
      "[Parallel(n_jobs=-1)]: Done 184 tasks      | elapsed:  2.3min\n",
      "[Parallel(n_jobs=-1)]: Done 434 tasks      | elapsed:  5.4min\n",
      "[Parallel(n_jobs=-1)]: Done 784 tasks      | elapsed:  9.6min\n",
      "[Parallel(n_jobs=-1)]: Done 810 out of 810 | elapsed:  9.9min finished\n"
     ]
    },
    {
     "name": "stdout",
     "output_type": "stream",
     "text": [
      "done in 593.526s\n",
      "\n",
      "Best score: 0.232\n",
      "Best parameters set:\n",
      "\tclf__max_depth: 500\n",
      "\tclf__max_features: 'auto'\n",
      "\tclf__max_leaf_nodes: 100\n",
      "\tclf__min_samples_leaf: 1\n",
      "\tclf__min_samples_split: 0.1\n"
     ]
    }
   ],
   "source": [
    "# 调参\n",
    "pipeline = Pipeline([\n",
    "                ('vect', HashingVectorizer(\n",
    "                        lowercase = True,\n",
    "                        stop_words= 'english',\n",
    "                        token_pattern= r'(?u)\\b[a-zA-Z_][a-zA-Z_]+\\b'\n",
    "                        )),\n",
    "                ('tfidf', TfidfTransformer()),\n",
    "                ('clf', DecisionTreeClassifier()),\n",
    "                ])\n",
    "parameters = {\n",
    "            'clf__max_depth':(10,100,500),\n",
    "            'clf__max_leaf_nodes':(5,10,100),\n",
    "            'clf__min_samples_leaf':(0.1,0.5, 1),\n",
    "            'clf__max_features': ('auto','log2'),\n",
    "            'clf__min_samples_split': (0.1, 0.5,1.0),\n",
    "\n",
    "}    \n",
    "\n",
    "cv = StratifiedKFold(n_splits= 5 ,random_state=0,shuffle=True)\n",
    "clf = GridSearchCV(pipeline, parameters,n_jobs=-1, verbose=1, cv = cv)\n",
    "print(\"Performing grid search...\")\n",
    "print(\"pipeline:\", [name for name, _ in pipeline.steps])\n",
    "print(\"parameters:\")\n",
    "pprint(parameters)\n",
    "t0 = time()\n",
    "clf.fit(X_train, y_train)\n",
    "print(\"done in %0.3fs\" % (time() - t0))\n",
    "print()\n",
    "\n",
    "print(\"Best score: %0.3f\" % clf.best_score_)\n",
    "print(\"Best parameters set:\")\n",
    "best_parameters = clf.best_estimator_.get_params()\n",
    "for param_name in sorted(parameters.keys()):\n",
    "    print(\"\\t%s: %r\" % (param_name, best_parameters[param_name]))   "
   ]
  },
  {
   "cell_type": "code",
   "execution_count": 40,
   "metadata": {},
   "outputs": [
    {
     "name": "stdout",
     "output_type": "stream",
     "text": [
      "Performing grid search...\n",
      "pipeline: ['vect', 'tfidf', 'clf']\n",
      "parameters:\n",
      "{'clf__max_depth': (500, 1000, 5000),\n",
      " 'clf__max_features': ('auto', 500, 1000),\n",
      " 'clf__max_leaf_nodes': (100, 500),\n",
      " 'clf__min_samples_leaf': (1, 2, 5),\n",
      " 'clf__min_samples_split': (0.1, 2, 10)}\n",
      "Fitting 5 folds for each of 162 candidates, totalling 810 fits\n"
     ]
    },
    {
     "name": "stderr",
     "output_type": "stream",
     "text": [
      "[Parallel(n_jobs=-1)]: Done  34 tasks      | elapsed:   28.2s\n",
      "[Parallel(n_jobs=-1)]: Done 184 tasks      | elapsed:  2.4min\n",
      "[Parallel(n_jobs=-1)]: Done 434 tasks      | elapsed:  5.6min\n",
      "[Parallel(n_jobs=-1)]: Done 784 tasks      | elapsed: 10.0min\n",
      "[Parallel(n_jobs=-1)]: Done 810 out of 810 | elapsed: 10.3min finished\n"
     ]
    },
    {
     "name": "stdout",
     "output_type": "stream",
     "text": [
      "done in 621.972s\n",
      "\n",
      "Best score: 0.349\n",
      "Best parameters set:\n",
      "\tclf__max_depth: 1000\n",
      "\tclf__max_features: 1000\n",
      "\tclf__max_leaf_nodes: 500\n",
      "\tclf__min_samples_leaf: 1\n",
      "\tclf__min_samples_split: 0.1\n"
     ]
    }
   ],
   "source": [
    "# 调参\n",
    "\n",
    "parameters = {\n",
    "            'clf__max_depth':(500,1000,5000),\n",
    "            'clf__max_leaf_nodes':(100, 500),\n",
    "            'clf__min_samples_leaf':( 1, 2, 5),\n",
    "            'clf__max_features': ('auto', 500, 1000),\n",
    "            'clf__min_samples_split': (0.1, 2, 10),\n",
    "\n",
    "}    \n",
    "\n",
    "cv = StratifiedKFold(n_splits= 5 ,random_state=0,shuffle=True)\n",
    "clf = GridSearchCV(pipeline, parameters,n_jobs=-1, verbose=1, cv = cv)\n",
    "print(\"Performing grid search...\")\n",
    "print(\"pipeline:\", [name for name, _ in pipeline.steps])\n",
    "print(\"parameters:\")\n",
    "pprint(parameters)\n",
    "t0 = time()\n",
    "clf.fit(X_train, y_train)\n",
    "print(\"done in %0.3fs\" % (time() - t0))\n",
    "print()\n",
    "\n",
    "print(\"Best score: %0.3f\" % clf.best_score_)\n",
    "print(\"Best parameters set:\")\n",
    "best_parameters = clf.best_estimator_.get_params()\n",
    "for param_name in sorted(parameters.keys()):\n",
    "    print(\"\\t%s: %r\" % (param_name, best_parameters[param_name]))   "
   ]
  },
  {
   "cell_type": "code",
   "execution_count": 41,
   "metadata": {},
   "outputs": [
    {
     "name": "stdout",
     "output_type": "stream",
     "text": [
      "Performing grid search...\n",
      "pipeline: ['vect', 'tfidf', 'clf']\n",
      "parameters:\n",
      "{'clf__max_depth': (1000, 2000),\n",
      " 'clf__max_features': (1000, 5000, 10000),\n",
      " 'clf__max_leaf_nodes': (500, 1000, 2000)}\n",
      "Fitting 5 folds for each of 18 candidates, totalling 90 fits\n"
     ]
    },
    {
     "name": "stderr",
     "output_type": "stream",
     "text": [
      "[Parallel(n_jobs=1)]: Done  90 out of  90 | elapsed:  7.3min finished\n"
     ]
    },
    {
     "name": "stdout",
     "output_type": "stream",
     "text": [
      "done in 447.221s\n",
      "\n",
      "Best score: 0.506\n",
      "Best parameters set:\n",
      "\tclf__max_depth: 1000\n",
      "\tclf__max_features: 10000\n",
      "\tclf__max_leaf_nodes: 2000\n"
     ]
    }
   ],
   "source": [
    "# 调参\n",
    "parameters = {\n",
    "            'clf__max_depth':(1000,2000),\n",
    "            'clf__max_leaf_nodes':(500,1000, 2000),\n",
    "          #  'clf__min_samples_leaf':( 1, 2, 5),\n",
    "            'clf__max_features': ( 1000,5000, 10000),\n",
    "          #  'clf__min_samples_split': (0.1, 2, 10),\n",
    "\n",
    "}    \n",
    "\n",
    "cv = StratifiedKFold(n_splits= 5 ,random_state=0,shuffle=True)\n",
    "clf = GridSearchCV(pipeline, parameters,n_jobs= 1, verbose=1, cv = cv)\n",
    "print(\"Performing grid search...\")\n",
    "print(\"pipeline:\", [name for name, _ in pipeline.steps])\n",
    "print(\"parameters:\")\n",
    "pprint(parameters)\n",
    "t0 = time()\n",
    "clf.fit(X_train, y_train)\n",
    "print(\"done in %0.3fs\" % (time() - t0))\n",
    "print()\n",
    "\n",
    "print(\"Best score: %0.3f\" % clf.best_score_)\n",
    "print(\"Best parameters set:\")\n",
    "best_parameters = clf.best_estimator_.get_params()\n",
    "for param_name in sorted(parameters.keys()):\n",
    "    print(\"\\t%s: %r\" % (param_name, best_parameters[param_name]))   "
   ]
  },
  {
   "cell_type": "code",
   "execution_count": 43,
   "metadata": {},
   "outputs": [
    {
     "name": "stdout",
     "output_type": "stream",
     "text": [
      "Performing grid search...\n",
      "pipeline: ['vect', 'tfidf', 'clf']\n",
      "parameters:\n",
      "{'clf__max_depth': (500, 800, 1000),\n",
      " 'clf__max_features': (10000, 20000),\n",
      " 'clf__max_leaf_nodes': (2000, 3000, 5000),\n",
      " 'clf__min_samples_leaf': (1, 2),\n",
      " 'clf__min_samples_split': (0.1, 2)}\n",
      "Fitting 5 folds for each of 72 candidates, totalling 360 fits\n"
     ]
    },
    {
     "name": "stderr",
     "output_type": "stream",
     "text": [
      "[Parallel(n_jobs=-1)]: Done  34 tasks      | elapsed:   48.4s\n",
      "[Parallel(n_jobs=-1)]: Done 184 tasks      | elapsed:  5.1min\n",
      "[Parallel(n_jobs=-1)]: Done 360 out of 360 | elapsed: 10.6min finished\n"
     ]
    },
    {
     "name": "stdout",
     "output_type": "stream",
     "text": [
      "done in 653.352s\n",
      "\n",
      "Best score: 0.544\n",
      "Best parameters set:\n",
      "\tclf__max_depth: 800\n",
      "\tclf__max_features: 20000\n",
      "\tclf__max_leaf_nodes: 3000\n",
      "\tclf__min_samples_leaf: 1\n",
      "\tclf__min_samples_split: 2\n"
     ]
    }
   ],
   "source": [
    "parameters = {\n",
    "            'clf__max_depth':(500, 800, 1000,),\n",
    "            'clf__max_leaf_nodes':( 2000, 3000, 5000),\n",
    "            'clf__min_samples_leaf':( 1, 2 ),\n",
    "            'clf__max_features': ( 10000 ,20000),\n",
    "            'clf__min_samples_split': (0.1, 2),\n",
    "\n",
    "}    \n",
    "\n",
    "cv = StratifiedKFold(n_splits= 5 ,random_state=0,shuffle=True)\n",
    "clf = GridSearchCV(pipeline, parameters,n_jobs= -1, verbose=1, cv = cv)\n",
    "print(\"Performing grid search...\")\n",
    "print(\"pipeline:\", [name for name, _ in pipeline.steps])\n",
    "print(\"parameters:\")\n",
    "pprint(parameters)\n",
    "t0 = time()\n",
    "clf.fit(X_train, y_train)\n",
    "print(\"done in %0.3fs\" % (time() - t0))\n",
    "print()\n",
    "\n",
    "print(\"Best score: %0.3f\" % clf.best_score_)\n",
    "print(\"Best parameters set:\")\n",
    "best_parameters = clf.best_estimator_.get_params()\n",
    "for param_name in sorted(parameters.keys()):\n",
    "    print(\"\\t%s: %r\" % (param_name, best_parameters[param_name]))   "
   ]
  },
  {
   "cell_type": "code",
   "execution_count": 46,
   "metadata": {},
   "outputs": [
    {
     "name": "stdout",
     "output_type": "stream",
     "text": [
      "Performing grid search...\n",
      "pipeline: ['vect', 'tfidf', 'clf']\n",
      "parameters:\n",
      "{'clf__max_depth': (800, 850),\n",
      " 'clf__max_features': (15000, 20000),\n",
      " 'clf__max_leaf_nodes': (3000, 3500),\n",
      " 'clf__min_samples_leaf': (1, 2),\n",
      " 'clf__min_samples_split': (5, 2)}\n",
      "Fitting 5 folds for each of 32 candidates, totalling 160 fits\n"
     ]
    },
    {
     "name": "stderr",
     "output_type": "stream",
     "text": [
      "[Parallel(n_jobs=-1)]: Done  34 tasks      | elapsed:  2.0min\n",
      "[Parallel(n_jobs=-1)]: Done 160 out of 160 | elapsed:  8.8min finished\n"
     ]
    },
    {
     "name": "stdout",
     "output_type": "stream",
     "text": [
      "done in 554.399s\n",
      "\n",
      "Best score: 0.552\n",
      "Best parameters set:\n",
      "\tclf__max_depth: 800\n",
      "\tclf__max_features: 20000\n",
      "\tclf__max_leaf_nodes: 3000\n",
      "\tclf__min_samples_leaf: 1\n",
      "\tclf__min_samples_split: 2\n"
     ]
    }
   ],
   "source": [
    "parameters = {\n",
    "            'clf__max_depth':( 800, 850,),\n",
    "            'clf__max_leaf_nodes':(  3000, 3500),\n",
    "            'clf__min_samples_leaf':( 1, 2 ),\n",
    "            'clf__max_features': ( 15000,20000),\n",
    "            'clf__min_samples_split': (5, 2),\n",
    "\n",
    "}    \n",
    "\n",
    "cv = StratifiedKFold(n_splits= 5 ,random_state=0,shuffle=True)\n",
    "clf = GridSearchCV(pipeline, parameters,n_jobs= -1, verbose=1, cv = cv)\n",
    "print(\"Performing grid search...\")\n",
    "print(\"pipeline:\", [name for name, _ in pipeline.steps])\n",
    "print(\"parameters:\")\n",
    "pprint(parameters)\n",
    "t0 = time()\n",
    "clf.fit(X_train, y_train)\n",
    "print(\"done in %0.3fs\" % (time() - t0))\n",
    "print()\n",
    "\n",
    "print(\"Best score: %0.3f\" % clf.best_score_)\n",
    "print(\"Best parameters set:\")\n",
    "best_parameters = clf.best_estimator_.get_params()\n",
    "for param_name in sorted(parameters.keys()):\n",
    "    print(\"\\t%s: %r\" % (param_name, best_parameters[param_name]))   \n",
    "    \n",
    "    "
   ]
  },
  {
   "cell_type": "code",
   "execution_count": 48,
   "metadata": {},
   "outputs": [
    {
     "name": "stdout",
     "output_type": "stream",
     "text": [
      "Fitting...\n",
      "[0.53239312 0.52515446 0.53312721 0.55973451 0.572949  ]\n",
      "training accuracy: 0.545 (+/- 0.037)\n"
     ]
    }
   ],
   "source": [
    "\n",
    "from sklearn import metrics  \n",
    "clf_validated = Pipeline([\n",
    "                ('vect', HashingVectorizer(\n",
    "                        lowercase = True,\n",
    "                        ngram_range = (1, 1),\n",
    "                        stop_words= 'english',\n",
    "                        token_pattern= r'(?u)\\b[a-zA-Z_][a-zA-Z_]+\\b'\n",
    "                        )),\n",
    "                ('tfidf', TfidfTransformer()),\n",
    "                ('clf', DecisionTreeClassifier(\n",
    "                        \n",
    "                        max_features = 20000,\n",
    "                        max_depth = 800,\n",
    "                        min_samples_split = 2,\n",
    "                        min_samples_leaf = 1,\n",
    "                        max_leaf_nodes = 3000,\n",
    "        \n",
    "                        )),\n",
    "                ]) \n",
    "print('Fitting...')                \n",
    "clf_validated.fit(X_train, y_train)  \n",
    "\n",
    "cv = StratifiedKFold(n_splits= 5 ,random_state=0,shuffle=True)\n",
    "scores = cross_val_score(clf_validated, X_train, y_train,  cv = cv, scoring='accuracy')\n",
    "print (scores)\n",
    "score = scores.mean()\n",
    "print(\"training accuracy: %0.3f (+/- %0.3f)\" % (score, scores.std() * 2))\n",
    "          "
   ]
  },
  {
   "cell_type": "code",
   "execution_count": 49,
   "metadata": {
    "scrolled": true
   },
   "outputs": [
    {
     "name": "stdout",
     "output_type": "stream",
     "text": [
      "testing accuracy:   0.466\n"
     ]
    }
   ],
   "source": [
    "\n",
    "pred = clf_validated.predict(X_test)\n",
    "score = metrics.accuracy_score(y_test, pred)\n",
    "print(\"testing accuracy:   %0.3f\" % score)"
   ]
  },
  {
   "cell_type": "code",
   "execution_count": null,
   "metadata": {},
   "outputs": [],
   "source": []
  }
 ],
 "metadata": {
  "kernelspec": {
   "display_name": "Python 3",
   "language": "python",
   "name": "python3"
  },
  "language_info": {
   "codemirror_mode": {
    "name": "ipython",
    "version": 3
   },
   "file_extension": ".py",
   "mimetype": "text/x-python",
   "name": "python",
   "nbconvert_exporter": "python",
   "pygments_lexer": "ipython3",
   "version": "3.6.5"
  }
 },
 "nbformat": 4,
 "nbformat_minor": 2
}
